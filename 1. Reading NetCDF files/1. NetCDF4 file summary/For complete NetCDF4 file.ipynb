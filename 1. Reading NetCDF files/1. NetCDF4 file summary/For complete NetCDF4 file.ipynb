
{
 "cells": [
  {
   "cell_type": "markdown",
   "id": "aaf22d1e-5a93-4e4e-9e73-4576fdc47e71",
   "metadata": {},
   "source": [
    "### You can use anyone of the below code to see the details of the NetCDF4 file"
   ]
  },
  {
   "cell_type": "code",
   "execution_count": null,
   "id": "40bf8cf1-7015-420c-9a24-d65c3d471898",
   "metadata": {},
   "outputs": [],
   "source": [
    "import xarray as xr\n",
    "ds = xr.open_dataset(\"your_file.nc\")  # Replace \"your_file.nc\" with the actual file path of your NetCDF file\n",
    "ds.info()                             # Provides a concise summary of the dataset’s structure and metadata"
   ]
  },
  {
   "cell_type": "code",
   "execution_count": null,
   "id": "85ed350d-93d6-4e83-8e90-ce3799e64c56",
   "metadata": {},
   "outputs": [],
   "source": [
    "import netCDF4  \n",
    "print(netCDF4.Dataset(\"your_file.nc\"))  # Replace \"your_file.nc\" with the path to your NetCDF file"
   ]
  }
 ],
 "metadata": {
  "kernelspec": {
   "display_name": "Python 3 (ipykernel)",
   "language": "python",
   "name": "python3"
  },
  "language_info": {
   "codemirror_mode": {
    "name": "ipython",
    "version": 3
   },
   "file_extension": ".py",
   "mimetype": "text/x-python",
   "name": "python",
   "nbconvert_exporter": "python",
   "pygments_lexer": "ipython3",
   "version": "3.12.3"
  }
 },
 "nbformat": 4,
 "nbformat_minor": 5
}
